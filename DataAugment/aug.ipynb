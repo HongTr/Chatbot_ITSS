{
 "cells": [
  {
   "cell_type": "code",
   "execution_count": 1,
   "metadata": {},
   "outputs": [],
   "source": [
    "import nlpaug.augmenter.char as nac\n",
    "import nlpaug.augmenter.word as naw\n",
    "import nlpaug.augmenter.sentence as nas\n",
    "import nlpaug.flow as nafc\n",
    "\n",
    "from nlpaug.util import Action"
   ]
  },
  {
   "cell_type": "code",
   "execution_count": 2,
   "metadata": {},
   "outputs": [],
   "source": [
    "import re\n",
    "\n",
    "rows = []\n",
    "\n",
    "with open(\"data.txt\", \"r\") as f:\n",
    "    for row in f:\n",
    "        row = re.sub(r'\\([^)]*\\)', '', row)\n",
    "        for char in row:\n",
    "            if char == '[':\n",
    "                row = row.replace('[', '')\n",
    "            elif char == ']':\n",
    "                row = row.replace(']', '')\n",
    "        row= re.sub(r'\\s+', ' ', row)\n",
    "        rows.append(row)\n",
    "\n",
    "with open(\"clean_data.txt\", \"w\") as f:\n",
    "    for row in rows:\n",
    "        f.write(row + '\\n')   "
   ]
  },
  {
   "cell_type": "code",
   "execution_count": 7,
   "metadata": {},
   "outputs": [],
   "source": [
    "import os\n",
    "\n",
    "aug = naw.SynonymAug(aug_src='wordnet')\n",
    "augmented_text = aug.augment(rows)\n",
    "with open(\"aug_data.txt\", \"w\") as f:\n",
    "    for text in augmented_text:\n",
    "        f.write(text+ '\\n')"
   ]
  },
  {
   "cell_type": "code",
   "execution_count": 15,
   "metadata": {},
   "outputs": [],
   "source": [
    "from googletrans import Translator\n",
    "\n",
    "def backtranslate(sentence):\n",
    "    translator = Translator()\n",
    "    # Translate the sentence to a foreign language\n",
    "    translation = translator.translate(sentence, dest='fr')\n",
    "    # Translate the translation back to the original language\n",
    "    back_translation = translator.translate(translation.text, dest='en')\n",
    "    # Return the back-translated text\n",
    "    return back_translation.text\n",
    "\n",
    "aug_back_rows = []\n",
    "for sentence in rows:\n",
    "    aug_back_rows.append(backtranslate(sentence))\n",
    "\n",
    "with open(\"aug_back_data.txt\", \"w\") as f:\n",
    "    for text in aug_back_rows:\n",
    "        f.write(text+ '\\n')"
   ]
  },
  {
   "cell_type": "code",
   "execution_count": 26,
   "metadata": {},
   "outputs": [
    {
     "name": "stdout",
     "output_type": "stream",
     "text": [
      "0.5839810003127641\n",
      "0.568985023266408\n"
     ]
    }
   ],
   "source": [
    "import nltk\n",
    "import numpy as np\n",
    "from sklearn.feature_extraction.text import TfidfVectorizer\n",
    "from sklearn.metrics.pairwise import cosine_similarity\n",
    "\n",
    "# Load the files\n",
    "with open('clean_data.txt', 'r') as file:\n",
    "    rows = [line.strip() for line in file]\n",
    "\n",
    "with open('aug_data.txt', 'r') as file:\n",
    "    rows1 = [line.strip() for line in file]\n",
    "    \n",
    "with open('aug_back_data.txt', 'r') as file:\n",
    "    rows2 = [line.strip() for line in file]\n",
    "\n",
    "# Preprocess the rows\n",
    "tokenizer = nltk.RegexpTokenizer(r'\\w+')\n",
    "stop_words = nltk.corpus.stopwords.words('english')\n",
    "stemmer = nltk.PorterStemmer()\n",
    "\n",
    "def preprocess(text):\n",
    "    tokens = tokenizer.tokenize(text.lower())\n",
    "    tokens = [t for t in tokens if t not in stop_words]\n",
    "    tokens = [stemmer.stem(t) for t in tokens]\n",
    "    return ' '.join(tokens)\n",
    "\n",
    "rows1 = [preprocess(row) for row in rows1]\n",
    "rows2 = [preprocess(row) for row in rows2]\n",
    "\n",
    "# Create a document-term matrix\n",
    "vectorizer = TfidfVectorizer()\n",
    "matrix = vectorizer.fit_transform(rows)\n",
    "matrix1 = vectorizer.transform(rows1)\n",
    "matrix2 = vectorizer.transform(rows2)\n",
    "\n",
    "# Compute similarity\n",
    "similarity1 = np.mean(np.diag(np.array(cosine_similarity(matrix, matrix1))))\n",
    "similarity2 = np.mean(np.diag(np.array(cosine_similarity(matrix, matrix2))))\n",
    "print(similarity1)\n",
    "print(similarity2)"
   ]
  }
 ],
 "metadata": {
  "kernelspec": {
   "display_name": "rasa_install",
   "language": "python",
   "name": "python3"
  },
  "language_info": {
   "codemirror_mode": {
    "name": "ipython",
    "version": 3
   },
   "file_extension": ".py",
   "mimetype": "text/x-python",
   "name": "python",
   "nbconvert_exporter": "python",
   "pygments_lexer": "ipython3",
   "version": "3.8.10"
  },
  "orig_nbformat": 4,
  "vscode": {
   "interpreter": {
    "hash": "849d58174ab055b62b391a79da2777df8b342b862cba05ed1fe6fe0d2466b362"
   }
  }
 },
 "nbformat": 4,
 "nbformat_minor": 2
}
