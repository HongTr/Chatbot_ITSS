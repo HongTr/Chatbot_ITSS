{
 "cells": [
  {
   "cell_type": "code",
   "execution_count": 3,
   "metadata": {},
   "outputs": [
    {
     "name": "stdout",
     "output_type": "stream",
     "text": [
      "{'key1': ['value1', 'value3', 'value7'], 'key3': ['value8', 'value9', 'value10'], 'key2': ['value4', 'value5', 'value6'], 'key4': ['value11', 'value12']}\n"
     ]
    }
   ],
   "source": [
    "message = {\n",
    "    'key1': ['value1', 'value2', 'value3'],\n",
    "    'key2': ['value4', 'value5', 'value6', 'value7'],\n",
    "    'key3': ['value8', 'value9', 'value10'],\n",
    "    'key4': ['value11', 'value12']\n",
    "}\n",
    "\n",
    "errorExample = ['value2', 'value7']\n",
    "trueEntity = ['key3', 'key1']\n",
    "\n",
    "new_message = {}\n",
    "for key in message:\n",
    "    new_message[key] = []\n",
    "    for value in message[key]:\n",
    "        if value in errorExample:\n",
    "            true_key = trueEntity[errorExample.index(value)]\n",
    "            new_message.setdefault(true_key, []).append(value)\n",
    "        else:\n",
    "            new_message.setdefault(key, []).append(value)\n",
    "\n",
    "print(new_message)\n"
   ]
  }
 ],
 "metadata": {
  "kernelspec": {
   "display_name": "rasa_install",
   "language": "python",
   "name": "python3"
  },
  "language_info": {
   "codemirror_mode": {
    "name": "ipython",
    "version": 3
   },
   "file_extension": ".py",
   "mimetype": "text/x-python",
   "name": "python",
   "nbconvert_exporter": "python",
   "pygments_lexer": "ipython3",
   "version": "3.8.10"
  },
  "orig_nbformat": 4,
  "vscode": {
   "interpreter": {
    "hash": "849d58174ab055b62b391a79da2777df8b342b862cba05ed1fe6fe0d2466b362"
   }
  }
 },
 "nbformat": 4,
 "nbformat_minor": 2
}
